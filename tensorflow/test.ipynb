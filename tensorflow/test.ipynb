{
 "cells": [
  {
   "cell_type": "code",
   "execution_count": 18,
   "metadata": {},
   "outputs": [
    {
     "name": "stdout",
     "output_type": "stream",
     "text": [
      "0 [0.55573165] [0.06388737]\n",
      "20 [0.21715623] [0.23588659]\n",
      "40 [0.13049202] [0.28331333]\n",
      "60 [0.10793609] [0.295657]\n",
      "80 [0.10206552] [0.29886967]\n",
      "100 [0.1005376] [0.2997058]\n",
      "120 [0.10013993] [0.29992342]\n",
      "140 [0.10003642] [0.29998007]\n",
      "160 [0.10000948] [0.29999483]\n",
      "180 [0.10000245] [0.29999867]\n",
      "200 [0.10000065] [0.29999965]\n"
     ]
    }
   ],
   "source": [
    "import tensorflow as tf\n",
    "import numpy as np\n",
    "\n",
    "x_data = np.random.rand(500).astype(np.float32)\n",
    "y_data = x_data*0.1 + 0.3\n",
    "\n",
    "#开始创建tensorflow结构\n",
    "\n",
    "Weights = tf.Variable(tf.random_uniform([1],-1.0,1.0))\n",
    "biases = tf.Variable(tf.zeros([1]))\n",
    "\n",
    "y = Weights*x_data + biases\n",
    "\n",
    "lose = tf.reduce_mean(tf.square(y-y_data))\n",
    "optmizer = tf.train.GradientDescentOptimizer(0.5)\n",
    "train = optmizer.minimize(lose)\n",
    "\n",
    "init = tf.initialize_all_variables()\n",
    "\n",
    "#激活神经网络\n",
    "# sess = tf.Session()\n",
    "# sess.run(init)\n",
    "\n",
    "# for step in range(200):\n",
    "#     sess.run(train)\n",
    "#     if step%20 ==0:\n",
    "#         print(step,sess.run(Weights),sess.run(biases))\n",
    "# sess.close()\n",
    "\n",
    "\n",
    "with tf.Session() as sess:\n",
    "    sess.run(init)\n",
    "    for step in range(201):\n",
    "        sess.run(train)\n",
    "        if step%20 == 0:\n",
    "            print(step,sess.run(Weights),sess.run(biases))"
   ]
  },
  {
   "cell_type": "markdown",
   "metadata": {},
   "source": [
    "# Variable 的使用\n"
   ]
  },
  {
   "cell_type": "code",
   "execution_count": 23,
   "metadata": {},
   "outputs": [
    {
     "name": "stdout",
     "output_type": "stream",
     "text": [
      "3\n",
      "6\n",
      "9\n"
     ]
    }
   ],
   "source": [
    "import tensorflow as tf\n",
    "state = tf.Variable(0,name = 'counter')\n",
    "# print(state.name)\n",
    "one = tf.constant(1)\n",
    "\n",
    "new_value = tf.add(state,3)\n",
    "update = tf.assign(state,new_value)\n",
    "\n",
    "init = tf.initialize_all_variables()   #初始化变量！！\n",
    "\n",
    "with tf.Session() as sess:\n",
    "    sess.run(init)\n",
    "    for i in range(3):\n",
    "        sess.run(update)\n",
    "        print(sess.run(state))"
   ]
  },
  {
   "cell_type": "markdown",
   "metadata": {},
   "source": [
    "# placehold 的使用"
   ]
  },
  {
   "cell_type": "code",
   "execution_count": 26,
   "metadata": {},
   "outputs": [
    {
     "name": "stdout",
     "output_type": "stream",
     "text": [
      "[15.]\n"
     ]
    }
   ],
   "source": [
    "import tensorflow as tf\n",
    "\n",
    "input1 = tf.placeholder(tf.float32)\n",
    "input2 = tf.placeholder(tf.float32)\n",
    "\n",
    "output = tf.multiply(input1,input2)\n",
    "\n",
    "with tf.Session() as sess:\n",
    "    print(sess.run(output,feed_dict = {input1:[3.],input2:[5.]} ))"
   ]
  },
  {
   "cell_type": "markdown",
   "metadata": {},
   "source": [
    "# 添加隐藏层"
   ]
  },
  {
   "cell_type": "code",
   "execution_count": null,
   "metadata": {},
   "outputs": [],
   "source": [
    "import tensorflow as tf\n",
    "import numpy as np\n",
    "\n",
    "def add_layer(inputs,in_size,out_size,activation_function = None):\n",
    "    Weights = tf.Variable(tf.random_normal([in_size,outsize]))\n",
    "    biases = tf.Variable(tf.zeros([1,out_size])+0.1)\n",
    "    Wx_plus_b = tfmatmul(inputs,Weights)+biases\n",
    "    if activation_function is None:\n",
    "        outputs = Wx_plus_b\n",
    "    else:\n",
    "        outputs = activation_function(Wx_plus_b)\n",
    "    return outputs"
   ]
  },
  {
   "cell_type": "markdown",
   "metadata": {},
   "source": [
    "# 自己搭建tensorflow神经网络"
   ]
  },
  {
   "cell_type": "code",
   "execution_count": 49,
   "metadata": {},
   "outputs": [
    {
     "name": "stdout",
     "output_type": "stream",
     "text": [
      "68.132454\n",
      "0.09497858\n",
      "0.09497858\n",
      "0.09497858\n",
      "0.09497858\n",
      "0.09497858\n",
      "0.09497858\n",
      "0.09497858\n",
      "0.09497858\n",
      "0.09497858\n",
      "0.09497858\n",
      "0.09497858\n",
      "0.09497858\n",
      "0.09497858\n",
      "0.09497858\n",
      "0.09497858\n",
      "0.09497858\n",
      "0.09497858\n",
      "0.09497858\n",
      "0.09497858\n"
     ]
    }
   ],
   "source": [
    "\n",
    "import tensorflow as tf\n",
    "import numpy as np\n",
    "\n",
    "def add_layer(inputs,in_size,out_size,activation_function = None):\n",
    "    Weights = tf.Variable(tf.random_normal([in_size,out_size]))\n",
    "    biases = tf.Variable(tf.zeros([1,out_size])+0.1)\n",
    "    Wx_plus_b = tf.matmul(inputs,Weights)+biases\n",
    "    if activation_function is None:\n",
    "        outputs = Wx_plus_b\n",
    "    else:\n",
    "        outputs = activation_function(Wx_plus_b)\n",
    "    return outputs\n",
    "\n",
    "x_data = np.linspace(-1,1,300)[:,np.newaxis]\n",
    "noise = np.random.normal(0,0.05,x_data.shape)\n",
    "y_data = np.square(x_data)-0.5 +noise\n",
    "\n",
    "xs = tf.placeholder(tf.float32,[None,1])\n",
    "ys = tf.placeholder(tf.float32,[None,1])\n",
    "\n",
    "l1 = add_layer(xs,1,10,activation_function = tf.nn.relu)\n",
    "prediction = add_layer(l1,10,1,activation_function = None)\n",
    "\n",
    "loss = tf.reduce_mean(tf.reduce_sum(tf.square(ys-prediction),\n",
    "                    reduction_indices = [1]))\n",
    "train_step = tf.train.GradientDescentOptimizer(0.5).minimize(loss)\n",
    "\n",
    "init = tf.initialize_all_variables()\n",
    "sess = tf.Session()\n",
    "sess.run(init)\n",
    "for i in range(1000):\n",
    "    sess.run(train_step,feed_dict={xs:x_data,ys:y_data})\n",
    "    if i%50 ==0:\n",
    "        print(sess.run(loss,feed_dict={xs:x_data,ys:y_data}))\n",
    "sess.close()\n",
    "# with tf.Session() as sess:\n",
    "#     sess.run(init)\n",
    "#     for i in range(1000):\n",
    "#         sess.run(train_step,feed_dict={xs:x_data,ys:y_data})\n",
    "#         if i%50 ==0:\n",
    "#             print(sess.run(loss,feed_dict={xs:x_data,ys:y_data}))"
   ]
  },
  {
   "cell_type": "markdown",
   "metadata": {},
   "source": [
    "# 结果可视化"
   ]
  },
  {
   "cell_type": "code",
   "execution_count": 88,
   "metadata": {},
   "outputs": [
    {
     "data": {
      "image/png": "[encoded data removed]",
      "text/plain": [
       "<Figure size 432x288 with 1 Axes>"
      ]
     },
     "metadata": {
      "needs_background": "light"
     },
     "output_type": "display_data"
    },
    {
     "name": "stdout",
     "output_type": "stream",
     "text": [
      "0.44454286\n",
      "0.013005433\n",
      "0.00818199\n",
      "0.0072226347\n",
      "0.006414339\n",
      "0.0056697503\n",
      "0.005115277\n",
      "0.0047686165\n",
      "0.0045419917\n",
      "0.00437644\n",
      "0.0042222114\n",
      "0.004073708\n",
      "0.0039362963\n",
      "0.00380711\n",
      "0.0036814911\n",
      "0.0035654807\n",
      "0.0034589977\n",
      "0.003361887\n",
      "0.003275823\n",
      "0.003188663\n"
     ]
    }
   ],
   "source": [
    "#没法动态显示，不知所措 \n",
    "%matplotlib inline\n",
    "import tensorflow as tf\n",
    "import numpy as np\n",
    "import matplotlib.pyplot as plt \n",
    "\n",
    "\n",
    "\n",
    "def add_layer(inputs,in_size,out_size,activation_function = None):\n",
    "    Weights = tf.Variable(tf.random_normal([in_size,out_size]))\n",
    "    biases = tf.Variable(tf.zeros([1,out_size])+0.1)\n",
    "    Wx_plus_b = tf.matmul(inputs,Weights)+biases\n",
    "    if activation_function is None:\n",
    "        outputs = Wx_plus_b\n",
    "    else:\n",
    "        outputs = activation_function(Wx_plus_b)\n",
    "    return outputs\n",
    "\n",
    "x_data = np.linspace(-1,1,300)[:,np.newaxis]\n",
    "noise = np.random.normal(0,0.05,x_data.shape)\n",
    "y_data = np.square(x_data)-0.5 +noise\n",
    "\n",
    "xs = tf.placeholder(tf.float32,[None,1])\n",
    "ys = tf.placeholder(tf.float32,[None,1])\n",
    "\n",
    "l1 = add_layer(xs,1,10,activation_function = tf.nn.relu)\n",
    "prediction = add_layer(l1,10,1,activation_function = None)\n",
    "\n",
    "loss = tf.reduce_mean(tf.reduce_sum(tf.square(ys-prediction),\n",
    "                    reduction_indices = [1]))\n",
    "train_step = tf.train.GradientDescentOptimizer(0.1).minimize(loss)\n",
    "\n",
    "init = tf.initialize_all_variables()\n",
    "sess = tf.Session()\n",
    "sess.run(init)\n",
    "\n",
    "fig = plt.figure()\n",
    "ax = fig.add_subplot(1,1,1)\n",
    "ax.scatter(x_data,y_data)\n",
    "plt.ion()\n",
    "plt.show()\n",
    "for i in range(1000):\n",
    "    sess.run(train_step,feed_dict={xs:x_data,ys:y_data})\n",
    "    if i%50 ==0:\n",
    "        try: \n",
    "            ax.lines.remove(lines[0])\n",
    "        except Exception:\n",
    "            pass\n",
    "        print(sess.run(loss,feed_dict={xs:x_data,ys:y_data}))\n",
    "        prediction_value = sess.run(prediction,feed_dict = {xs:x_data})\n",
    "#         print(prediction_value)\n",
    "#         plt.ion()\n",
    "        lines = ax.plot(x_data,prediction_value,'r-',lw=5)\n",
    "        plt.pause(0.1)\n",
    "sess.close()"
   ]
  }
 ],
 "metadata": {
  "kernelspec": {
   "display_name": "Python 3",
   "language": "python",
   "name": "python3"
  },
  "language_info": {
   "codemirror_mode": {
    "name": "ipython",
    "version": 3
   },
   "file_extension": ".py",
   "mimetype": "text/x-python",
   "name": "python",
   "nbconvert_exporter": "python",
   "pygments_lexer": "ipython3",
   "version": "3.7.1"
  }
 },
 "nbformat": 4,
 "nbformat_minor": 2
}
